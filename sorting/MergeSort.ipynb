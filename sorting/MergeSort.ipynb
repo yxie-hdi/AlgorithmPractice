{
 "cells": [
  {
   "cell_type": "code",
   "execution_count": 3,
   "id": "234d4b37-d246-4f4a-952c-166f62f944ea",
   "metadata": {},
   "outputs": [
    {
     "name": "stdout",
     "output_type": "stream",
     "text": [
      "Original: [38, 27, 43, 3, 9, 82, 10]\n",
      "Sorted: [3, 9, 10, 27, 38, 43, 82]\n"
     ]
    }
   ],
   "source": [
    "# Merge Sort\n",
    "\n",
    "def merge(left, right):\n",
    "    merged = []\n",
    "    i = j = 0\n",
    "\n",
    "    # Compare elements from both lists and add the smallest one\n",
    "    while i < len(left) and j < len(right):\n",
    "        if left[i] <= right[j]:\n",
    "            merged.append(left[i])\n",
    "            i += 1\n",
    "        else:\n",
    "            merged.append(right[j])\n",
    "            j += 1\n",
    "\n",
    "    # Append any remaining elements (one of these will be empty)\n",
    "    merged.extend(left[i:])\n",
    "    merged.extend(right[j:])\n",
    "\n",
    "    return merged\n",
    "\n",
    "def merge_sort(arr):\n",
    "    # Base case: a list with 0 or 1 elements is already sorted\n",
    "    if len(arr) <= 1:\n",
    "        return arr\n",
    "\n",
    "    # Divide: split the array into two halves\n",
    "    mid = len(arr) // 2\n",
    "    left = merge_sort(arr[:mid])\n",
    "    right = merge_sort(arr[mid:])\n",
    "\n",
    "    # Conquer: merge the two sorted halves\n",
    "    return merge(left, right)\n",
    "\n",
    "\n",
    "# Example usage\n",
    "if __name__ == \"__main__\":\n",
    "    sample = [38, 27, 43, 3, 9, 82, 10]\n",
    "    print(\"Original:\", sample)\n",
    "    sorted_sample = merge_sort(sample)\n",
    "    print(\"Sorted:\", sorted_sample)\n"
   ]
  },
  {
   "cell_type": "code",
   "execution_count": null,
   "id": "9ddf2714-a67d-48fd-a07f-f1f2fe424aa2",
   "metadata": {},
   "outputs": [],
   "source": []
  }
 ],
 "metadata": {
  "kernelspec": {
   "display_name": "Python 3 (ipykernel)",
   "language": "python",
   "name": "python3"
  },
  "language_info": {
   "codemirror_mode": {
    "name": "ipython",
    "version": 3
   },
   "file_extension": ".py",
   "mimetype": "text/x-python",
   "name": "python",
   "nbconvert_exporter": "python",
   "pygments_lexer": "ipython3",
   "version": "3.12.7"
  }
 },
 "nbformat": 4,
 "nbformat_minor": 5
}
